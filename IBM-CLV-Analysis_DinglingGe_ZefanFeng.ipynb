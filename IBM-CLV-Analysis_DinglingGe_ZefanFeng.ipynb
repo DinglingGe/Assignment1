{
 "cells": [
  {
   "cell_type": "code",
   "execution_count": 4,
   "metadata": {},
   "outputs": [],
   "source": [
    "import pandas as pd\n",
    "import numpy as np\n",
    "\n",
    "path = 'WA_Fn-UseC_-Marketing-Customer-Value-Analysis.csv'\n",
    "\n",
    "# Read the csv data\n",
    "df = pd.read_csv(path)\n",
    "df.columns = ['Customer','State','round_Customer Lifetime Value','Response','Coverage','Education','Effective To Date','EmploymentStatus',\n",
    "              'Gender','Income','Location Code','Marital Status','Monthly Premium Auto','Months Since Last Claim',\n",
    "              'Months Since Policy Inception','Number of Open Complaints','Number of Policies','Policy Type','Policy','Renew Offer Type',\n",
    "              'Sales Channel','Total Claim Amount','Vehicle Class','Vehicle Size']\n"
   ]
  },
  {
   "cell_type": "code",
   "execution_count": 5,
   "metadata": {},
   "outputs": [
    {
     "name": "stdout",
     "output_type": "stream",
     "text": [
      "Customer ['AA10041' 'AA11235' 'AA16582' ... 'ZZ89380' 'ZZ91716' 'ZZ97035']\n",
      "State ['Arizona' 'California' 'Nevada' 'Oregon' 'Washington']\n",
      "round_Customer Lifetime Value [ 1898.007675  1898.683686  1904.000852 ... 73225.95652  74228.51604\n",
      " 83325.38119 ]\n",
      "Response ['No' 'Yes']\n",
      "Coverage ['Basic' 'Extended' 'Premium']\n",
      "Education ['Bachelor' 'College' 'Doctor' 'High School or Below' 'Master']\n",
      "Effective To Date ['1/1/11' '1/10/11' '1/11/11' '1/12/11' '1/13/11' '1/14/11' '1/15/11'\n",
      " '1/16/11' '1/17/11' '1/18/11' '1/19/11' '1/2/11' '1/20/11' '1/21/11'\n",
      " '1/22/11' '1/23/11' '1/24/11' '1/25/11' '1/26/11' '1/27/11' '1/28/11'\n",
      " '1/29/11' '1/3/11' '1/30/11' '1/31/11' '1/4/11' '1/5/11' '1/6/11'\n",
      " '1/7/11' '1/8/11' '1/9/11' '2/1/11' '2/10/11' '2/11/11' '2/12/11'\n",
      " '2/13/11' '2/14/11' '2/15/11' '2/16/11' '2/17/11' '2/18/11' '2/19/11'\n",
      " '2/2/11' '2/20/11' '2/21/11' '2/22/11' '2/23/11' '2/24/11' '2/25/11'\n",
      " '2/26/11' '2/27/11' '2/28/11' '2/3/11' '2/4/11' '2/5/11' '2/6/11'\n",
      " '2/7/11' '2/8/11' '2/9/11']\n",
      "EmploymentStatus ['Disabled' 'Employed' 'Medical Leave' 'Retired' 'Unemployed']\n",
      "Gender ['F' 'M']\n",
      "Income [    0 10037 10074 ... 99960 99961 99981]\n",
      "Location Code ['Rural' 'Suburban' 'Urban']\n",
      "Marital Status ['Divorced' 'Married' 'Single']\n",
      "Monthly Premium Auto [ 61  62  63  64  65  66  67  68  69  70  71  72  73  74  76  77  78  79\n",
      "  80  81  82  83  84  85  86  87  88  89  90  91  92  93  94  95  96  97\n",
      "  98  99 100 101 102 103 104 105 106 107 108 109 110 111 112 113 114 115\n",
      " 116 117 118 119 121 122 123 124 125 126 127 128 129 130 131 132 133 134\n",
      " 135 136 137 138 139 140 141 142 143 144 145 146 147 148 149 150 151 152\n",
      " 153 154 155 156 157 158 159 160 161 162 163 164 165 166 167 168 169 170\n",
      " 171 172 173 174 175 176 177 178 179 180 181 182 183 184 185 186 187 188\n",
      " 189 190 191 192 193 194 195 196 197 198 199 201 202 203 204 205 206 207\n",
      " 208 209 210 211 212 213 214 215 216 217 218 219 220 222 223 225 226 228\n",
      " 229 230 231 232 234 235 237 238 239 240 242 244 245 247 248 249 252 253\n",
      " 254 255 256 261 266 268 271 273 274 275 276 281 283 284 285 286 287 290\n",
      " 295 296 297 298]\n",
      "Months Since Last Claim [ 0  1  2  3  4  5  6  7  8  9 10 11 12 13 14 15 16 17 18 19 20 21 22 23\n",
      " 24 25 26 27 28 29 30 31 32 33 34 35]\n",
      "Months Since Policy Inception [ 0  1  2  3  4  5  6  7  8  9 10 11 12 13 14 15 16 17 18 19 20 21 22 23\n",
      " 24 25 26 27 28 29 30 31 32 33 34 35 36 37 38 39 40 41 42 43 44 45 46 47\n",
      " 48 49 50 51 52 53 54 55 56 57 58 59 60 61 62 63 64 65 66 67 68 69 70 71\n",
      " 72 73 74 75 76 77 78 79 80 81 82 83 84 85 86 87 88 89 90 91 92 93 94 95\n",
      " 96 97 98 99]\n",
      "Number of Open Complaints [0 1 2 3 4 5]\n",
      "Number of Policies [1 2 3 4 5 6 7 8 9]\n",
      "Policy Type ['Corporate Auto' 'Personal Auto' 'Special Auto']\n",
      "Policy ['Corporate L1' 'Corporate L2' 'Corporate L3' 'Personal L1' 'Personal L2'\n",
      " 'Personal L3' 'Special L1' 'Special L2' 'Special L3']\n",
      "Renew Offer Type ['Offer1' 'Offer2' 'Offer3' 'Offer4']\n",
      "Sales Channel ['Agent' 'Branch' 'Call Center' 'Web']\n",
      "Total Claim Amount [9.90070000e-02 3.82107000e-01 4.23310000e-01 ... 2.55234386e+03\n",
      " 2.75979435e+03 2.89323968e+03]\n",
      "Vehicle Class ['Four-Door Car' 'Luxury Car' 'Luxury SUV' 'SUV' 'Sports Car'\n",
      " 'Two-Door Car']\n",
      "Vehicle Size ['Large' 'Medsize' 'Small']\n",
      "\n"
     ]
    }
   ],
   "source": [
    "#Print the unique value for each feature\n",
    "for feature in df.columns:\n",
    "    print(feature, np.unique(df[feature]))\n",
    "print()\n",
    "selectedFeature = ['Income', 'Coverage', 'Education', 'EmploymentStatus', 'Monthly Premium Auto', 'Months Since Last Claim', \n",
    "                   'Number of Open Complaints','Total Claim Amount','State','Gender','Marital Status','Policy','Vehicle Class',\n",
    "                   'Vehicle Size']"
   ]
  },
  {
   "cell_type": "code",
   "execution_count": 6,
   "metadata": {},
   "outputs": [
    {
     "name": "stdout",
     "output_type": "stream",
     "text": [
      "[0 1 2 ... 1 1 1] ['Basic' 'Extended' 'Premium']\n",
      "[0 0 0 ... 0 1 1] ['Bachelor' 'College' 'Master' 'High School or Below' 'Doctor']\n",
      "[0 1 0 ... 1 0 1] ['Employed' 'Unemployed' 'Medical Leave' 'Disabled' 'Retired']\n",
      "[0 1 2 ... 3 3 3] ['Washington' 'Arizona' 'Nevada' 'California' 'Oregon']\n",
      "[0 0 0 ... 1 1 1] ['F' 'M']\n",
      "[0 1 0 ... 1 0 1] ['Married' 'Single' 'Divorced']\n",
      "[0 1 1 ... 2 6 0] ['Corporate L3' 'Personal L3' 'Corporate L2' 'Personal L1' 'Special L2'\n",
      " 'Corporate L1' 'Personal L2' 'Special L1' 'Special L3']\n",
      "[0 1 0 ... 1 1 0] ['Two-Door Car' 'Four-Door Car' 'SUV' 'Luxury SUV' 'Sports Car'\n",
      " 'Luxury Car']\n",
      "[0 0 0 ... 0 2 0] ['Medsize' 'Small' 'Large']\n"
     ]
    }
   ],
   "source": [
    "factorizeFeatures = ['Coverage', 'Education','EmploymentStatus','State','Gender','Marital Status','Policy','Vehicle Class','Vehicle Size']\n",
    "for feature in factorizeFeatures:\n",
    "    labels, uniques = pd.factorize(df[feature].values)\n",
    "    print(labels, uniques)\n",
    "    df[feature] = labels"
   ]
  },
  {
   "cell_type": "code",
   "execution_count": 7,
   "metadata": {},
   "outputs": [],
   "source": [
    "from sklearn.model_selection import train_test_split\n",
    "from sklearn.ensemble import RandomForestClassifier\n",
    "from sklearn.feature_extraction.text import CountVectorizer"
   ]
  },
  {
   "cell_type": "code",
   "execution_count": 8,
   "metadata": {},
   "outputs": [
    {
     "name": "stdout",
     "output_type": "stream",
     "text": [
      "[[5.6274e+04 0.0000e+00 0.0000e+00 ... 0.0000e+00 0.0000e+00 0.0000e+00]\n",
      " [0.0000e+00 1.0000e+00 0.0000e+00 ... 1.0000e+00 1.0000e+00 0.0000e+00]\n",
      " [4.8767e+04 2.0000e+00 0.0000e+00 ... 1.0000e+00 0.0000e+00 0.0000e+00]\n",
      " ...\n",
      " [0.0000e+00 1.0000e+00 0.0000e+00 ... 2.0000e+00 1.0000e+00 0.0000e+00]\n",
      " [2.1941e+04 1.0000e+00 1.0000e+00 ... 6.0000e+00 1.0000e+00 2.0000e+00]\n",
      " [0.0000e+00 1.0000e+00 1.0000e+00 ... 0.0000e+00 0.0000e+00 0.0000e+00]]\n"
     ]
    }
   ],
   "source": [
    "x = df.loc[:, selectedFeature].values\n",
    "y = df.loc[:, 'round_Customer Lifetime Value'].values\n",
    "\n",
    "print(x)"
   ]
  },
  {
   "cell_type": "code",
   "execution_count": 9,
   "metadata": {},
   "outputs": [],
   "source": [
    "x_train, x_test, y_train, y_test = train_test_split(x, y, test_size = 0.3, random_state = 0)"
   ]
  },
  {
   "cell_type": "code",
   "execution_count": 12,
   "metadata": {},
   "outputs": [
    {
     "data": {
      "text/plain": [
       "RandomForestClassifier(bootstrap=True, class_weight=None, criterion='gini',\n",
       "                       max_depth=2, max_features='auto', max_leaf_nodes=None,\n",
       "                       min_impurity_decrease=0.0, min_impurity_split=None,\n",
       "                       min_samples_leaf=1, min_samples_split=2,\n",
       "                       min_weight_fraction_leaf=0.0, n_estimators=300,\n",
       "                       n_jobs=-1, oob_score=False, random_state=0, verbose=0,\n",
       "                       warm_start=False)"
      ]
     },
     "execution_count": 12,
     "metadata": {},
     "output_type": "execute_result"
    }
   ],
   "source": [
    "forest = RandomForestClassifier(n_estimators=300, max_depth=2,random_state=0, n_jobs=-1)\n",
    "forest.fit(x_train, y_train.astype('int'))"
   ]
  },
  {
   "cell_type": "code",
   "execution_count": 13,
   "metadata": {},
   "outputs": [
    {
     "name": "stdout",
     "output_type": "stream",
     "text": [
      " 1) Monthly Premium Auto           0.179689\n",
      " 2) EmploymentStatus               0.170628\n",
      " 3) Income                         0.138377\n",
      " 4) Total Claim Amount             0.109072\n",
      " 5) Months Since Last Claim        0.079555\n",
      " 6) Marital Status                 0.079249\n",
      " 7) Vehicle Class                  0.052277\n",
      " 8) Number of Open Complaints      0.051194\n",
      " 9) Education                      0.048650\n",
      "10) Coverage                       0.039699\n",
      "11) Vehicle Size                   0.032646\n",
      "12) Gender                         0.009970\n",
      "13) Policy                         0.005075\n",
      "14) State                          0.003920\n"
     ]
    }
   ],
   "source": [
    "importances = forest.feature_importances_\n",
    "indices = np.argsort(importances)[::-1]\n",
    "for f in range(x_train.shape[1]):\n",
    "    print(\"%2d) %-*s %f\" % (f + 1, 30, selectedFeature[indices[f]], importances[indices[f]]))"
   ]
  },
  {
   "cell_type": "code",
   "execution_count": null,
   "metadata": {},
   "outputs": [],
   "source": []
  }
 ],
 "metadata": {
  "kernelspec": {
   "display_name": "Python 3",
   "language": "python",
   "name": "python3"
  },
  "language_info": {
   "codemirror_mode": {
    "name": "ipython",
    "version": 3
   },
   "file_extension": ".py",
   "mimetype": "text/x-python",
   "name": "python",
   "nbconvert_exporter": "python",
   "pygments_lexer": "ipython3",
   "version": "3.7.3"
  }
 },
 "nbformat": 4,
 "nbformat_minor": 2
}
